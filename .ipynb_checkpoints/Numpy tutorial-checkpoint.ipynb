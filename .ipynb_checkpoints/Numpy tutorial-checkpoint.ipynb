{
 "cells": [
  {
   "cell_type": "markdown",
   "id": "55394665-827c-4104-b4ee-6a1a67cc6c26",
   "metadata": {},
   "source": [
    "<img src=\"austris-augusts-52p1K0d0euM-unsplash.jpg\">\n",
    "<center>Photo by <a href=\"https://unsplash.com/@austris_a?utm_content=creditCopyText&utm_medium=referral&utm_source=unsplash\">Austris Augusts</a> on <a href=\"https://unsplash.com/photos/running-field-during-daytime-52p1K0d0euM?utm_content=creditCopyText&utm_medium=referral&utm_source=unsplash\">Unsplash</a></center>  "
   ]
  },
  {
   "cell_type": "code",
   "execution_count": 2,
   "id": "651f40ed-faca-4f60-82d9-66b63b796fcf",
   "metadata": {},
   "outputs": [],
   "source": [
    "import numpy as np"
   ]
  },
  {
   "cell_type": "code",
   "execution_count": 22,
   "id": "8d359dc5-f91f-480c-a5e9-38766021a13c",
   "metadata": {},
   "outputs": [
    {
     "name": "stdout",
     "output_type": "stream",
     "text": [
      "[1 2 3]\n",
      "\n",
      "[[1 2 3]\n",
      " [4 5 6]]\n",
      "\n",
      "[[0. 0. 0.]\n",
      " [0. 0. 0.]]\n",
      "\n",
      "[[1. 1.]\n",
      " [1. 1.]\n",
      " [1. 1.]]\n",
      "\n",
      "[0 2 4 6 8]\n"
     ]
    }
   ],
   "source": [
    "# Create 1 D array\n",
    "arr_1d = np.array([1, 2, 3])\n",
    "\n",
    "# Create 2 D array\n",
    "arr_2d = np.array([[1, 2, 3], [4, 5, 6]])\n",
    "\n",
    "# Create an array with zeros\n",
    "zeros_array = np.zeros((2, 3))\n",
    "\n",
    "# Create an array with ones\n",
    "ones_array = np.ones((3, 2))\n",
    "\n",
    "# Create an array with a range of values\n",
    "range_array = np.arange(0, 10, 2)  #start, stop, step\n",
    "\n",
    "print(arr_1d)\n",
    "print()\n",
    "print(arr_2d)\n",
    "print()\n",
    "print(zeros_array)\n",
    "print()\n",
    "print(ones_array)\n",
    "print()\n",
    "print(range_array)"
   ]
  },
  {
   "cell_type": "code",
   "execution_count": null,
   "id": "5f91d28f-ce23-4f34-bcb4-fd02740af82e",
   "metadata": {},
   "outputs": [],
   "source": [
    "## Array atributes"
   ]
  },
  {
   "cell_type": "code",
   "execution_count": 23,
   "id": "b63d1a4f-c21a-4ede-9e1a-e486da688966",
   "metadata": {},
   "outputs": [
    {
     "name": "stdout",
     "output_type": "stream",
     "text": [
      "(2, 3)\n",
      "int32\n"
     ]
    }
   ],
   "source": [
    "# Shape of the array\n",
    "print(arr_2d.shape)\n",
    "\n",
    "# Data type of the array\n",
    "print(arr_2d.dtype)"
   ]
  },
  {
   "cell_type": "code",
   "execution_count": null,
   "id": "3618b3e8-4b21-4393-90a7-bc17ef2960c3",
   "metadata": {},
   "outputs": [],
   "source": [
    "## Array operations"
   ]
  },
  {
   "cell_type": "code",
   "execution_count": 31,
   "id": "6c7e46a2-312e-4d85-8f59-84794159003c",
   "metadata": {},
   "outputs": [
    {
     "name": "stdout",
     "output_type": "stream",
     "text": [
      "arr_a:  [1 2 3]\n",
      "arr_b:  [4 5 6]\n",
      "arr_a + arr_b: [5 7 9]\n",
      "arr_a * arr_b [ 4 10 18]\n",
      "matrix_a:  [[1 2]\n",
      " [3 4]]\n",
      "matrix_b:  [[5 6]\n",
      " [7 8]]\n",
      "matrix multiply:  [[19 22]\n",
      " [43 50]]\n"
     ]
    }
   ],
   "source": [
    "# Element-wise operations\n",
    "arr_a = np.array([1, 2, 3])\n",
    "arr_b = np.array([4, 5, 6])\n",
    "\n",
    "print('arr_a: ', arr_a)\n",
    "print('arr_b: ', arr_b)\n",
    "\n",
    "result_add = arr_a + arr_b\n",
    "\n",
    "print('arr_a + arr_b:', result_add)\n",
    "\n",
    "result_multiply = arr_a * arr_b\n",
    "\n",
    "print('arr_a * arr_b', result_multiply)\n",
    "\n",
    "# Matrix multiplication\n",
    "matrix_a = np.array([[1, 2], [3, 4]])\n",
    "print('matrix_a: ', matrix_a)\n",
    "\n",
    "matrix_b = np.array([[5, 6], [7, 8]])\n",
    "print('matrix_b: ', matrix_b)\n",
    "\n",
    "result_matrix_multiply = np.dot(matrix_a, matrix_b)\n",
    "print('matrix multiply: ', result_matrix_multiply)"
   ]
  },
  {
   "cell_type": "code",
   "execution_count": null,
   "id": "4e19203a-b9e4-4d96-ba4e-81d1ae49a04b",
   "metadata": {},
   "outputs": [],
   "source": [
    "## Universal functions"
   ]
  },
  {
   "cell_type": "code",
   "execution_count": 32,
   "id": "1b63573c-c51a-4086-8f7e-1a8576ad474d",
   "metadata": {},
   "outputs": [
    {
     "name": "stdout",
     "output_type": "stream",
     "text": [
      "Square root of arr_a:  [1.         1.41421356 1.73205081]\n",
      "exponential of arr_1:  [ 2.71828183  7.3890561  20.08553692]\n",
      "sin of arr_a:  [0.84147098 0.90929743 0.14112001]\n"
     ]
    }
   ],
   "source": [
    "# Square root\n",
    "result_sqrt = np.sqrt(arr_a)\n",
    "print('Square root of arr_a: ', result_sqrt)\n",
    "\n",
    "# Exponential\n",
    "result_exp = np.exp(arr_a)\n",
    "print('exponential of arr_1: ', result_exp)\n",
    "\n",
    "# Trigonometric functions\n",
    "result_sin = np.sin(arr_a)\n",
    "print('sine of arr_a: ', result_sin)"
   ]
  }
 ],
 "metadata": {
  "kernelspec": {
   "display_name": "Python 3 (ipykernel)",
   "language": "python",
   "name": "python3"
  },
  "language_info": {
   "codemirror_mode": {
    "name": "ipython",
    "version": 3
   },
   "file_extension": ".py",
   "mimetype": "text/x-python",
   "name": "python",
   "nbconvert_exporter": "python",
   "pygments_lexer": "ipython3",
   "version": "3.11.5"
  }
 },
 "nbformat": 4,
 "nbformat_minor": 5
}
